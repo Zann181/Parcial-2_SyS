{
  "nbformat": 4,
  "nbformat_minor": 0,
  "metadata": {
    "colab": {
      "provenance": [],
      "include_colab_link": true
    },
    "kernelspec": {
      "name": "python3",
      "display_name": "Python 3"
    },
    "language_info": {
      "name": "python"
    }
  },
  "cells": [
    {
      "cell_type": "markdown",
      "metadata": {
        "id": "view-in-github",
        "colab_type": "text"
      },
      "source": [
        "<a href=\"https://colab.research.google.com/github/Zann181/Parcial-2_SyS/blob/main/Dashboards_Streamlit_Ngrok_Colab.ipynb\" target=\"_parent\"><img src=\"https://colab.research.google.com/assets/colab-badge.svg\" alt=\"Open In Colab\"/></a>"
      ]
    },
    {
      "cell_type": "markdown",
      "source": [
        "# Guía Streamlit en Colab y Ngrok - Dashboards\n",
        "\n",
        "Elaborado por: Juan David Muñoz Buritica jmunozbu@unal.edu.co (Monitoria SyS 2024-1)\n",
        "Revisado: Andrés Marino Álvarez Meza amalvarezme@unal.edu.co\n",
        "\n",
        "- [Streamlit](https://streamlit.io/) es una librería destinada a crear y compartir aplicaciones o dashboards.\n",
        "- Su objetivo es ser una herramienta fácil de usar que permita ejecutar scripts directamente y desplegarlos en un aplicativo web.\n",
        "- Sin embargo, antes de ver su funcionamiento, debemos tener en cuenta que, si bien Streamlit permite correr el aplicativo, debemos alojarlo y \"hacerlo visible\" a la red.\n",
        "- Existen diferentes métodos que cumplen dicho objetivo, también dependiendo del nivel de madurez que se requiera, bien sea simplemente testeo o producción. - Una alternativa eficaz, rápida y que puede ser fácilmente escalable es [Ngrok](https://ngrok.com/)."
      ],
      "metadata": {
        "id": "mBRoMU1ZSVbC"
      }
    },
    {
      "cell_type": "markdown",
      "source": [
        "- Ngrok es un servicio y aplicativo globalmente distribuido que asegura, acelera y protege las aplicaciones y servicios de red.\n",
        "- En este caso, nos servirá para crear el tunel http que nos deje visualizar el dashboard corriendo con Streamlit desde el entorno del cuadernillo o script de Python.\n",
        "- El servicio gratuito de Ngrok, tras crear la cuenta tiene la posibilidad de mantener un agente activo simultáneo, cuya configuración está dada por el token de autenticación único por usuario y túnel.\n",
        "\n",
        "**Nota: Cree una cuenta en Ngrok https://ngrok.com/ con su correo UNAL y guarde el token personal asignado**"
      ],
      "metadata": {
        "id": "2y5u0IEjUUlK"
      }
    },
    {
      "cell_type": "code",
      "execution_count": 1,
      "metadata": {
        "id": "AS_pGOHuRBOe",
        "colab": {
          "base_uri": "https://localhost:8080/"
        },
        "outputId": "bf6a5160-7ec5-49fa-b2b8-cb51325154ce"
      },
      "outputs": [
        {
          "output_type": "stream",
          "name": "stdout",
          "text": [
            "\u001b[2K   \u001b[90m━━━━━━━━━━━━━━━━━━━━━━━━━━━━━━━━━━━━━━━━\u001b[0m \u001b[32m8.7/8.7 MB\u001b[0m \u001b[31m34.8 MB/s\u001b[0m eta \u001b[36m0:00:00\u001b[0m\n",
            "\u001b[2K   \u001b[90m━━━━━━━━━━━━━━━━━━━━━━━━━━━━━━━━━━━━━━━━\u001b[0m \u001b[32m207.3/207.3 kB\u001b[0m \u001b[31m4.1 MB/s\u001b[0m eta \u001b[36m0:00:00\u001b[0m\n",
            "\u001b[2K   \u001b[90m━━━━━━━━━━━━━━━━━━━━━━━━━━━━━━━━━━━━━━━━\u001b[0m \u001b[32m6.9/6.9 MB\u001b[0m \u001b[31m30.6 MB/s\u001b[0m eta \u001b[36m0:00:00\u001b[0m\n",
            "\u001b[2K   \u001b[90m━━━━━━━━━━━━━━━━━━━━━━━━━━━━━━━━━━━━━━━━\u001b[0m \u001b[32m82.9/82.9 kB\u001b[0m \u001b[31m2.4 MB/s\u001b[0m eta \u001b[36m0:00:00\u001b[0m\n",
            "\u001b[2K   \u001b[90m━━━━━━━━━━━━━━━━━━━━━━━━━━━━━━━━━━━━━━━━\u001b[0m \u001b[32m62.7/62.7 kB\u001b[0m \u001b[31m1.0 MB/s\u001b[0m eta \u001b[36m0:00:00\u001b[0m\n",
            "\u001b[?25hCollecting pyngrok\n",
            "  Downloading pyngrok-7.2.0-py3-none-any.whl.metadata (7.4 kB)\n",
            "Requirement already satisfied: PyYAML>=5.1 in /usr/local/lib/python3.10/dist-packages (from pyngrok) (6.0.2)\n",
            "Downloading pyngrok-7.2.0-py3-none-any.whl (22 kB)\n",
            "Installing collected packages: pyngrok\n",
            "Successfully installed pyngrok-7.2.0\n"
          ]
        }
      ],
      "source": [
        "!pip install streamlit -q #instalación de librerías\n",
        "!pip install pyngrok"
      ]
    },
    {
      "cell_type": "code",
      "source": [
        "!python3 -m pip install --force-reinstall https://github.com/yt-dlp/yt-dlp/archive/master.tar.gz\n",
        "!pip install soundfile #librerias descarga Youtube y manejo de audios en python"
      ],
      "metadata": {
        "id": "ilQwRjcv9azp",
        "colab": {
          "base_uri": "https://localhost:8080/"
        },
        "outputId": "aca1775d-0c57-4ddb-bab8-a6cfd37fe7ac"
      },
      "execution_count": 2,
      "outputs": [
        {
          "output_type": "stream",
          "name": "stdout",
          "text": [
            "Collecting https://github.com/yt-dlp/yt-dlp/archive/master.tar.gz\n",
            "  Downloading https://github.com/yt-dlp/yt-dlp/archive/master.tar.gz\n",
            "\u001b[2K     \u001b[32m-\u001b[0m \u001b[32m2.7 MB\u001b[0m \u001b[31m8.5 MB/s\u001b[0m \u001b[33m0:00:00\u001b[0m\n",
            "\u001b[?25h  Installing build dependencies ... \u001b[?25l\u001b[?25hdone\n",
            "  Getting requirements to build wheel ... \u001b[?25l\u001b[?25hdone\n",
            "  Preparing metadata (pyproject.toml) ... \u001b[?25l\u001b[?25hdone\n",
            "Collecting brotli (from yt-dlp==2024.8.6)\n",
            "  Downloading Brotli-1.1.0-cp310-cp310-manylinux_2_5_x86_64.manylinux1_x86_64.manylinux_2_12_x86_64.manylinux2010_x86_64.whl.metadata (5.5 kB)\n",
            "Collecting certifi (from yt-dlp==2024.8.6)\n",
            "  Using cached certifi-2024.8.30-py3-none-any.whl.metadata (2.2 kB)\n",
            "Collecting mutagen (from yt-dlp==2024.8.6)\n",
            "  Downloading mutagen-1.47.0-py3-none-any.whl.metadata (1.7 kB)\n",
            "Collecting pycryptodomex (from yt-dlp==2024.8.6)\n",
            "  Downloading pycryptodomex-3.20.0-cp35-abi3-manylinux_2_17_x86_64.manylinux2014_x86_64.whl.metadata (3.4 kB)\n",
            "Collecting requests<3,>=2.32.2 (from yt-dlp==2024.8.6)\n",
            "  Using cached requests-2.32.3-py3-none-any.whl.metadata (4.6 kB)\n",
            "Collecting urllib3<3,>=1.26.17 (from yt-dlp==2024.8.6)\n",
            "  Downloading urllib3-2.2.2-py3-none-any.whl.metadata (6.4 kB)\n",
            "Collecting websockets>=13.0 (from yt-dlp==2024.8.6)\n",
            "  Downloading websockets-13.0.1-cp310-cp310-manylinux_2_5_x86_64.manylinux1_x86_64.manylinux_2_17_x86_64.manylinux2014_x86_64.whl.metadata (6.7 kB)\n",
            "Collecting charset-normalizer<4,>=2 (from requests<3,>=2.32.2->yt-dlp==2024.8.6)\n",
            "  Using cached charset_normalizer-3.3.2-cp310-cp310-manylinux_2_17_x86_64.manylinux2014_x86_64.whl.metadata (33 kB)\n",
            "Collecting idna<4,>=2.5 (from requests<3,>=2.32.2->yt-dlp==2024.8.6)\n",
            "  Using cached idna-3.8-py3-none-any.whl.metadata (9.9 kB)\n",
            "Using cached requests-2.32.3-py3-none-any.whl (64 kB)\n",
            "Using cached certifi-2024.8.30-py3-none-any.whl (167 kB)\n",
            "Downloading urllib3-2.2.2-py3-none-any.whl (121 kB)\n",
            "\u001b[2K   \u001b[90m━━━━━━━━━━━━━━━━━━━━━━━━━━━━━━━━━━━━━━━━\u001b[0m \u001b[32m121.4/121.4 kB\u001b[0m \u001b[31m6.3 MB/s\u001b[0m eta \u001b[36m0:00:00\u001b[0m\n",
            "\u001b[?25hDownloading websockets-13.0.1-cp310-cp310-manylinux_2_5_x86_64.manylinux1_x86_64.manylinux_2_17_x86_64.manylinux2014_x86_64.whl (157 kB)\n",
            "\u001b[2K   \u001b[90m━━━━━━━━━━━━━━━━━━━━━━━━━━━━━━━━━━━━━━━━\u001b[0m \u001b[32m157.3/157.3 kB\u001b[0m \u001b[31m7.2 MB/s\u001b[0m eta \u001b[36m0:00:00\u001b[0m\n",
            "\u001b[?25hDownloading Brotli-1.1.0-cp310-cp310-manylinux_2_5_x86_64.manylinux1_x86_64.manylinux_2_12_x86_64.manylinux2010_x86_64.whl (3.0 MB)\n",
            "\u001b[2K   \u001b[90m━━━━━━━━━━━━━━━━━━━━━━━━━━━━━━━━━━━━━━━━\u001b[0m \u001b[32m3.0/3.0 MB\u001b[0m \u001b[31m44.6 MB/s\u001b[0m eta \u001b[36m0:00:00\u001b[0m\n",
            "\u001b[?25hDownloading mutagen-1.47.0-py3-none-any.whl (194 kB)\n",
            "\u001b[2K   \u001b[90m━━━━━━━━━━━━━━━━━━━━━━━━━━━━━━━━━━━━━━━━\u001b[0m \u001b[32m194.4/194.4 kB\u001b[0m \u001b[31m8.5 MB/s\u001b[0m eta \u001b[36m0:00:00\u001b[0m\n",
            "\u001b[?25hDownloading pycryptodomex-3.20.0-cp35-abi3-manylinux_2_17_x86_64.manylinux2014_x86_64.whl (2.1 MB)\n",
            "\u001b[2K   \u001b[90m━━━━━━━━━━━━━━━━━━━━━━━━━━━━━━━━━━━━━━━━\u001b[0m \u001b[32m2.1/2.1 MB\u001b[0m \u001b[31m45.1 MB/s\u001b[0m eta \u001b[36m0:00:00\u001b[0m\n",
            "\u001b[?25hUsing cached charset_normalizer-3.3.2-cp310-cp310-manylinux_2_17_x86_64.manylinux2014_x86_64.whl (142 kB)\n",
            "Using cached idna-3.8-py3-none-any.whl (66 kB)\n",
            "Building wheels for collected packages: yt-dlp\n",
            "  Building wheel for yt-dlp (pyproject.toml) ... \u001b[?25l\u001b[?25hdone\n",
            "  Created wheel for yt-dlp: filename=yt_dlp-2024.8.6-py3-none-any.whl size=2883112 sha256=f4b8a5aa523b7ef26fd7bc3b0a6a7050c1871ca1cd3624e3df5e1c19ce64ae89\n",
            "  Stored in directory: /tmp/pip-ephem-wheel-cache-e10uqnjz/wheels/4c/91/d1/c5369304e2f7afb660bb6eee093af5a7d3c0ea05a3c1e8c797\n",
            "Successfully built yt-dlp\n",
            "Installing collected packages: brotli, websockets, urllib3, pycryptodomex, mutagen, idna, charset-normalizer, certifi, requests, yt-dlp\n",
            "  Attempting uninstall: urllib3\n",
            "    Found existing installation: urllib3 2.0.7\n",
            "    Uninstalling urllib3-2.0.7:\n",
            "      Successfully uninstalled urllib3-2.0.7\n",
            "  Attempting uninstall: idna\n",
            "    Found existing installation: idna 3.8\n",
            "    Uninstalling idna-3.8:\n",
            "      Successfully uninstalled idna-3.8\n",
            "  Attempting uninstall: charset-normalizer\n",
            "    Found existing installation: charset-normalizer 3.3.2\n",
            "    Uninstalling charset-normalizer-3.3.2:\n",
            "      Successfully uninstalled charset-normalizer-3.3.2\n",
            "  Attempting uninstall: certifi\n",
            "    Found existing installation: certifi 2024.8.30\n",
            "    Uninstalling certifi-2024.8.30:\n",
            "      Successfully uninstalled certifi-2024.8.30\n",
            "  Attempting uninstall: requests\n",
            "    Found existing installation: requests 2.32.3\n",
            "    Uninstalling requests-2.32.3:\n",
            "      Successfully uninstalled requests-2.32.3\n",
            "Successfully installed brotli-1.1.0 certifi-2024.8.30 charset-normalizer-3.3.2 idna-3.8 mutagen-1.47.0 pycryptodomex-3.20.0 requests-2.32.3 urllib3-2.2.2 websockets-13.0.1 yt-dlp-2024.8.6\n",
            "Requirement already satisfied: soundfile in /usr/local/lib/python3.10/dist-packages (0.12.1)\n",
            "Requirement already satisfied: cffi>=1.0 in /usr/local/lib/python3.10/dist-packages (from soundfile) (1.17.0)\n",
            "Requirement already satisfied: pycparser in /usr/local/lib/python3.10/dist-packages (from cffi>=1.0->soundfile) (2.22)\n"
          ]
        }
      ]
    },
    {
      "cell_type": "code",
      "source": [
        "# Instalar ffmpeg si es necesario en Colab\n",
        "!apt-get install ffmpeg\n",
        "\n",
        "import os\n",
        "import streamlit as st\n",
        "from yt_dlp import YoutubeDL"
      ],
      "metadata": {
        "colab": {
          "base_uri": "https://localhost:8080/"
        },
        "id": "m4uDbTcaeb9b",
        "outputId": "dac6a0e8-ff1e-4885-e13d-9843b7b17fe8"
      },
      "execution_count": 3,
      "outputs": [
        {
          "output_type": "stream",
          "name": "stdout",
          "text": [
            "Reading package lists... Done\n",
            "Building dependency tree... Done\n",
            "Reading state information... Done\n",
            "ffmpeg is already the newest version (7:4.4.2-0ubuntu0.22.04.1).\n",
            "0 upgraded, 0 newly installed, 0 to remove and 49 not upgraded.\n"
          ]
        }
      ]
    },
    {
      "cell_type": "markdown",
      "source": [
        "La estructura básica para correr un programa o script en streamlit es la siguiente."
      ],
      "metadata": {
        "id": "dq3Ao2CO3x8w"
      }
    },
    {
      "cell_type": "markdown",
      "source": [
        "- A continuación se muestra una app básica con algunas de las funcionalidades básicas para visualizar en dashboard.\n",
        "\n",
        "- Debemos crear un archivo .py con los códigos del dashboard para su posterior visualización en Ngrok."
      ],
      "metadata": {
        "id": "IOaX3yd226rg"
      }
    },
    {
      "cell_type": "code",
      "source": [
        "%%writefile detector.py\n",
        "\n",
        "import streamlit as st\n",
        "import numpy as np\n",
        "import os\n",
        "import soundfile as sf\n",
        "import matplotlib.pyplot as plt\n",
        "from sklearn.preprocessing import MinMaxScaler\n",
        "from sklearn.manifold import TSNE\n",
        "from pyngrok import ngrok\n",
        "import yt_dlp as youtube_dl\n",
        "import joblib\n",
        "import warnings\n",
        "import scipy.signal as sig\n",
        "\n",
        "warnings.filterwarnings(\"ignore\")\n",
        "\n",
        "\n",
        "\n",
        "# Clase principal para el procesamiento de señales\n",
        "class SignalProcessor:\n",
        "    def __init__(self, A=1, T=5, Fs=100, N=50):\n",
        "        self.A = A\n",
        "        self.T = T\n",
        "        self.Fs = Fs\n",
        "        self.N = N\n",
        "        self.F_o = 1 / self.T\n",
        "        self.tv = np.arange(-self.T / 2, self.T / 2, 1 / self.Fs)\n",
        "        self.xo = self.A ** 2 * np.sin(2 * np.pi * self.F_o * self.tv) ** 2\n",
        "        self.wo = 2 * np.pi / self.T\n",
        "        self.phin = np.zeros((len(self.tv), 2 * self.N + 1), dtype=np.complex_)\n",
        "        self.Cn = np.zeros(2 * self.N + 1, dtype=np.complex_)\n",
        "        self.nv = np.linspace(-self.N, self.N, 2 * self.N + 1)\n",
        "        self.Px = self.A ** 2\n",
        "        self._initialize_signal_bases()\n",
        "        self._initialize_coefficients()\n",
        "\n",
        "    def _initialize_signal_bases(self):\n",
        "        for n in range(-self.N, self.N + 1):\n",
        "            self.phin[:, n + self.N] = np.exp(1j * n * self.wo * self.tv)\n",
        "\n",
        "    def _initialize_coefficients(self):\n",
        "        self.Cn[self.N] = self.A ** 2 / 2\n",
        "        self.Cn[self.N + 2] = self.Cn[self.N - 2] = -self.A ** 2 / 4\n",
        "\n",
        "    def plot_base(self, n):\n",
        "        fig, ax = plt.subplots()\n",
        "        ax.plot(self.tv, np.real(self.phin[:, int(n + self.N)]), label=r\"Re$\\phi_n$(t)\")\n",
        "        ax.plot(self.tv, np.imag(self.phin[:, int(n + self.N)]), label=r\"Im$\\phi_n$(t)\")\n",
        "        ax.plot(self.tv, self.xo, 'r', label=\"x(t)\")\n",
        "        ax.set_xlabel(\"Tiempo [s]\")\n",
        "        ax.set_ylabel(\"Base\")\n",
        "        ax.grid(True)\n",
        "        ax.legend()\n",
        "        st.pyplot(fig)\n",
        "\n",
        "    def plot_spectrum(self):\n",
        "        fig, axs = plt.subplots(2, 2, figsize=(8, 8))\n",
        "        axs[0, 0].stem(self.nv, np.real(self.Cn))\n",
        "        axs[0, 0].set_title(r\"Re$(C_n)$\")\n",
        "        axs[0, 1].stem(self.nv, np.imag(self.Cn))\n",
        "        axs[0, 1].set_title(r\"Im$(C_n)$\")\n",
        "        axs[1, 0].stem(self.nv, np.abs(self.Cn))\n",
        "        axs[1, 0].set_title(r\"$|C_n|$\")\n",
        "        axs[1, 1].stem(self.nv, np.angle(self.Cn))\n",
        "        axs[1, 1].set_title(r\"$\\angle C_n$\")\n",
        "        for ax in axs.flat:\n",
        "            ax.grid(True)\n",
        "        plt.tight_layout()\n",
        "        st.pyplot(fig)\n",
        "\n",
        "    def plot_reconstruction(self, Na):\n",
        "        indices = np.arange(self.N - Na, self.N + Na + 1)\n",
        "        error = 1 - np.sum(np.abs(self.Cn[indices]) ** 2) / self.Px\n",
        "        estimated_signal = self.phin[:, indices].dot(self.Cn[indices])\n",
        "        fig, ax = plt.subplots()\n",
        "        ax.plot(self.tv, np.real(estimated_signal), label=\"x_e(t) Estimada\")\n",
        "        ax.plot(self.tv, self.xo, 'r', label=\"x(t) Original\")\n",
        "        ax.set_title(f\"Error Relativo: {100 * error:.2f}%\")\n",
        "        ax.grid(True)\n",
        "        ax.legend()\n",
        "        st.pyplot(fig)\n",
        "\n",
        "\n",
        "\n",
        "# Clase para descargar y procesar audio desde YouTube\n",
        "class YouTubeAudioProcessor:\n",
        "    @st.cache_data\n",
        "    def download_ytvid_as_mp3(_self, video_url, name):\n",
        "        video_info = youtube_dl.YoutubeDL().extract_info(url=video_url, download=False)\n",
        "        filename = f\"{name}.mp3\"\n",
        "        options = {\n",
        "            'format': 'bestaudio/best',\n",
        "            'keepvideo': False,\n",
        "            'outtmpl': filename,\n",
        "        }\n",
        "\n",
        "        with youtube_dl.YoutubeDL(options) as ydl:\n",
        "            ydl.download([video_info['webpage_url']])\n",
        "        return filename\n",
        "\n",
        "    def convert_mp3_to_wav(self, mp3_file, wav_file):\n",
        "        os.system(f\"ffmpeg -i {mp3_file} {wav_file}\")\n",
        "\n",
        "    def process_wav_file(self, nombre_out, ti, tf, fs, selection):\n",
        "        xa, fs = sf.read(nombre_out)\n",
        "        st.write(f'Frecuencia de muestreo: {fs:.2f} Hz\\nArchivo de audio: {nombre_out}')\n",
        "\n",
        "        # Extraer los 5 segundos entre ti y tf\n",
        "        start_sample = int(ti * fs)\n",
        "        end_sample = int(tf * fs)\n",
        "        fragmento = xa[start_sample:end_sample]\n",
        "\n",
        "        # Guardar el fragmento en un nuevo archivo temporal\n",
        "        temp_filename = \"fragmento.wav\"\n",
        "        sf.write(temp_filename, fragmento, fs)\n",
        "\n",
        "        # Reproducir el fragmento de 5 segundos\n",
        "        st.audio(temp_filename)\n",
        "\n",
        "        if selection == 'Portadora':\n",
        "            self.plot_carrier_signal(fragmento, fs, ti, tf)\n",
        "        elif selection == 'Modulada':\n",
        "            self.plot_modulated_signal(fragmento, fs, ti, tf)\n",
        "\n",
        "    def plot_carrier_signal(self, m, fs, ti, tf):\n",
        "        tt = np.arange(0, tf - ti, 1 / fs)\n",
        "        Fc = 15000\n",
        "        Im = 0.5\n",
        "        Ac = np.max(abs(m)) / Im\n",
        "        c = Ac * np.sin(2 * np.pi * Fc * tt)\n",
        "\n",
        "        Cw = np.fft.rfft(c)\n",
        "        vf = np.fft.rfftfreq(len(c), d=1/fs)\n",
        "\n",
        "        fig, ax = plt.subplots()\n",
        "        ax.plot(vf, abs(Cw))\n",
        "        ax.set_title(r'Espectro Portadora')\n",
        "        ax.set_xlabel(r'$f[Hz]$', fontsize=14)\n",
        "        ax.set_ylabel(r'$|C[f]|$', fontsize=14)\n",
        "        ax.grid(True)\n",
        "        st.pyplot(fig)\n",
        "\n",
        "    def plot_modulated_signal(self, m, fs, ti, tf):\n",
        "        tt = np.arange(0, tf - ti, 1 / fs)\n",
        "        Fc = 15000\n",
        "        Im = 0.5\n",
        "        Ac = np.max(np.abs(m[:, 0])) / Im  # Seleccionar el primer canal\n",
        "        c = Ac * np.sin(2 * np.pi * Fc * tt)\n",
        "\n",
        "        y = (1 + m[:, 0] / Ac) * c  # Usar el primer canal\n",
        "        Yw = np.fft.rfft(y)\n",
        "        vf = np.fft.rfftfreq(len(y), d=1/fs)\n",
        "\n",
        "        fig, ax = plt.subplots()\n",
        "        ax.plot(vf, np.abs(Yw))\n",
        "        ax.set_title(r'Espectro Señal Modulada')\n",
        "        ax.set_xlabel(r'$f[Hz]$', fontsize=14)\n",
        "        ax.set_ylabel(r'$|Y[f]|$', fontsize=14)\n",
        "        ax.grid(True)\n",
        "        st.pyplot(fig)\n",
        "\n",
        "\n",
        "\n",
        "# Clase para simular circuitos RC\n",
        "class CircuitSimulator:\n",
        "    def __init__(self):\n",
        "        self.Fo = 60\n",
        "        self.Fs = 30 * self.Fo\n",
        "        self.To = 1 / self.Fo\n",
        "        self.Ts = 1 / self.Fs\n",
        "        self.t = np.arange(0, 5 * self.To, self.Ts)\n",
        "        self.A = 120\n",
        "        self.in_o = self.A * np.abs(np.sin(2 * np.pi * self.Fo * self.t))  # Onda senoidal rectificada\n",
        "\n",
        "    def transferencia_RC(self, R, C):\n",
        "        num = [1]\n",
        "        den = [R * C, 1]\n",
        "        return sig.TransferFunction(num, den)\n",
        "\n",
        "    def simular_salida(self, R, C):\n",
        "        G_n = self.transferencia_RC(R, C)\n",
        "        _, out, _ = sig.lsim(G_n, self.in_o, self.t)\n",
        "        return out\n",
        "\n",
        "    def calcular_fft(self, signal):\n",
        "        vfre = np.fft.rfftfreq(len(signal), self.Ts)\n",
        "        Xf = np.fft.rfft(signal)\n",
        "        return vfre, Xf\n",
        "\n",
        "    def calcular_thd(self, Xf):\n",
        "        V1 = np.abs(Xf[1]) / len(Xf)\n",
        "        Vh = np.sqrt(np.sum(np.abs(Xf[2:]) ** 2)) / len(Xf)\n",
        "        THD = Vh / V1\n",
        "        return THD\n",
        "\n",
        "    def simulacion(self, R_v, C_v):\n",
        "        # Simulación de salida para la resistencia pura y el circuito RC usando las mismas variables\n",
        "        out_res = self.simular_salida(R_v, 1e-12)  # Carga resistiva (capacitancia despreciable)\n",
        "        out_RC = self.simular_salida(R_v, C_v)  # Circuito RC serie\n",
        "\n",
        "        # Cálculo del espectro de ambas salidas\n",
        "        vfre_res, Xf_res = self.calcular_fft(out_res)\n",
        "        vfre_RC, Xf_RC = self.calcular_fft(out_RC)\n",
        "\n",
        "        # Graficar espectro para el caso resistivo\n",
        "        self.plot_espectro(vfre_res, Xf_res, \"Resistiva\")\n",
        "\n",
        "        # Graficar espectro para el caso RC serie\n",
        "        self.plot_espectro(vfre_RC, Xf_RC, \"RC Serie\")\n",
        "\n",
        "        # Cálculo del THD\n",
        "        THD_res = self.calcular_thd(Xf_res)\n",
        "        THD_RC = self.calcular_thd(Xf_RC)\n",
        "\n",
        "        st.write(f'THD (Carga Resistiva) = {THD_res * 100:.2f}%')\n",
        "        st.write(f'THD (Carga RC Serie) = {THD_RC * 100:.2f}%')\n",
        "\n",
        "    def plot_espectro(self, vfre, Xf, label):\n",
        "        st.write(f\"Espectro de Frecuencia - Carga {label}\")\n",
        "        fig, ax = plt.subplots()\n",
        "        ax.stem(vfre, np.abs(Xf) / len(Xf), basefmt=\" \", use_line_collection=True)\n",
        "        ax.set_xlabel('Frecuencia (Hz)')\n",
        "        ax.set_ylabel('Magnitud')\n",
        "        ax.grid(True)\n",
        "        st.pyplot(fig)\n",
        "\n",
        "\n",
        "# Código principal de Streamlit\n",
        "def main():\n",
        "    st.title(\"Parcial#2\")\n",
        "\n",
        "    # Instancia de la clase SignalProcessor\n",
        "    signal_processor = SignalProcessor()\n",
        "\n",
        "    # Widget interactivo para seleccionar el armónico n\n",
        "    n = st.slider('Elige el armónico n', min_value=-signal_processor.N, max_value=signal_processor.N, value=0, step=1)\n",
        "    signal_processor.plot_base(n)\n",
        "\n",
        "    # Gráfica del espectro de Fourier\n",
        "    signal_processor.plot_spectrum()\n",
        "\n",
        "    # Slider para seleccionar Na\n",
        "    Na = st.slider('Elige el número de armónicos Na', min_value=1, max_value=signal_processor.N, value=1, step=1)\n",
        "    signal_processor.plot_reconstruction(Na)\n",
        "\n",
        "    # Sección de modulación AM\n",
        "    st.write('Ingrese la URL de YouTube:')\n",
        "    custom_url = st.text_input(\"URL de YouTube:\", \"https://www.youtube.com/watch?v=aZiQ7aJ_BVo\")\n",
        "    yt_audio = YouTubeAudioProcessor()\n",
        "\n",
        "    selection = st.radio(\"Seleccione el tipo de señal para graficar:\", ('Portadora', 'Modulada'))\n",
        "\n",
        "    if st.button(\"Descargar y procesar audio\"):\n",
        "        mp3_filename = yt_audio.download_ytvid_as_mp3(custom_url, \"audio\")\n",
        "        wav_filename = \"output.wav\"\n",
        "        yt_audio.convert_mp3_to_wav(mp3_filename, wav_filename)\n",
        "        yt_audio.process_wav_file(wav_filename, ti=20, tf=25, fs=44100, selection=selection)\n",
        "\n",
        "    # Simulación de circuitos\n",
        "    st.title(\"Simulación de Circuitos RC\")\n",
        "\n",
        "    # Entradas comunes de resistencia y capacitancia\n",
        "    R_v = st.number_input(\"Resistencia (R) para el circuito:\", min_value=1, value=1000)\n",
        "    C_v = st.number_input(\"Capacitancia (C) para el circuito:\", min_value=0.0, value=1e-6)\n",
        "\n",
        "    if st.button(\"Ejecutar simulación\"):\n",
        "        simulator = CircuitSimulator()\n",
        "        simulator.simulacion(R_v, C_v)\n",
        "\n",
        "\n",
        "if __name__ == \"__main__\":\n",
        "    main()\n"
      ],
      "metadata": {
        "colab": {
          "base_uri": "https://localhost:8080/"
        },
        "id": "KxXGfU4z21Yt",
        "outputId": "3ff633a1-f583-4819-f0b3-43a0e05a51be"
      },
      "execution_count": 43,
      "outputs": [
        {
          "output_type": "stream",
          "name": "stdout",
          "text": [
            "Overwriting detector.py\n"
          ]
        }
      ]
    },
    {
      "cell_type": "markdown",
      "source": [
        "Como al momento de correr el script con Streamlit se requiere del archivo .py donde se encuentre el código, utilizamos %%writefile para crearlo. Posteriormente hacemos toda la configuración de Ngrok con el token y demás datos de protocolo."
      ],
      "metadata": {
        "id": "Wmhs3tByoErw"
      }
    },
    {
      "cell_type": "code",
      "source": [
        "token = '2loY5BE5ZxQ3TstzfOMcpiGVm5q_4wkwQQXBRgu5GmePE82kL' #colocar aquí su token personal después de crear su cuenta con correo UNAL en Ngrok"
      ],
      "metadata": {
        "id": "BFoInA_Fo7ut"
      },
      "execution_count": 5,
      "outputs": []
    },
    {
      "cell_type": "code",
      "source": [],
      "metadata": {
        "id": "h_dnnaHgfJdy"
      },
      "execution_count": null,
      "outputs": []
    },
    {
      "cell_type": "code",
      "source": [
        "from pyngrok import ngrok\n",
        "\n",
        "# Set authentication token (unique per user)\n",
        "ngrok.set_auth_token(token)\n",
        "\n",
        "# Start Streamlit server on a specific port\n",
        "!nohup streamlit run detector.py --server.port 5011 &\n",
        "\n",
        "# Start ngrok tunnel to expose the Streamlit server\n",
        "ngrok_tunnel = ngrok.connect(addr='5011', proto='http', bind_tls=True)\n",
        "\n",
        "# Print the URL of the ngrok tunnel\n",
        "print(' * Tunnel URL:', ngrok_tunnel.public_url)"
      ],
      "metadata": {
        "colab": {
          "base_uri": "https://localhost:8080/"
        },
        "id": "Owu5b-ENhQuZ",
        "outputId": "c39cc87b-aee2-44eb-8788-f7cb9a3eef3a"
      },
      "execution_count": 6,
      "outputs": [
        {
          "output_type": "stream",
          "name": "stdout",
          "text": [
            "nohup: appending output to 'nohup.out'\n",
            " * Tunnel URL: https://0d5e-34-82-37-207.ngrok-free.app\n"
          ]
        }
      ]
    }
  ]
}